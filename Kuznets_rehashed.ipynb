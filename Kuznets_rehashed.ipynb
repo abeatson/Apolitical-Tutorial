{
  "nbformat": 4,
  "nbformat_minor": 0,
  "metadata": {
    "colab": {
      "name": "Kuznets_rehashed.ipynb",
      "version": "0.3.2",
      "provenance": [],
      "collapsed_sections": [],
      "include_colab_link": true
    },
    "kernelspec": {
      "name": "python3",
      "display_name": "Python 3"
    }
  },
  "cells": [
    {
      "cell_type": "markdown",
      "metadata": {
        "id": "view-in-github",
        "colab_type": "text"
      },
      "source": [
        "<a href=\"https://colab.research.google.com/github/abeatson/Apolitical-Tutorial/blob/master/Kuznets_rehashed.ipynb\" target=\"_parent\"><img src=\"https://colab.research.google.com/assets/colab-badge.svg\" alt=\"Open In Colab\"/></a>"
      ]
    },
    {
      "metadata": {
        "id": "_mwfMcz4pU1B",
        "colab_type": "code",
        "colab": {
          "base_uri": "https://localhost:8080/",
          "height": 34
        },
        "outputId": "40e11992-a877-4b9d-c205-00bda9b37513"
      },
      "cell_type": "code",
      "source": [
        "%%css\n",
        "<style>\n",
        "    div.cell{\n",
        "        width:100%;\n",
        "        margin-left:1%;\n",
        "        margin-right:auto;\n",
        "    }\n",
        "</style>"
      ],
      "execution_count": 27,
      "outputs": [
        {
          "output_type": "stream",
          "text": [
            "UsageError: Cell magic `%%css` not found.\n"
          ],
          "name": "stderr"
        }
      ]
    },
    {
      "metadata": {
        "id": "DUBaaxyzg7xu",
        "colab_type": "code",
        "colab": {
          "resources": {
            "http://localhost:8080/nbextensions/google.colab/files.js": {
              "data": "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",
              "ok": true,
              "headers": [
                [
                  "content-type",
                  "application/javascript"
                ]
              ],
              "status": 200,
              "status_text": ""
            }
          },
          "base_uri": "https://localhost:8080/",
          "height": 72
        },
        "outputId": "74d9d006-ccf8-453e-af22-724f4891a304"
      },
      "cell_type": "code",
      "source": [
        "import pandas as pd\n",
        "import io\n",
        "import numpy as np\n",
        "# Import req'd libraries\n",
        "\n",
        "from google.colab import files\n",
        "uploaded = files.upload()\n",
        "# Initialize the google document import widget.\n"
      ],
      "execution_count": 3,
      "outputs": [
        {
          "output_type": "display_data",
          "data": {
            "text/html": [
              "\n",
              "     <input type=\"file\" id=\"files-21cba8f5-7afb-4004-8bb2-eb9bd4ad909f\" name=\"files[]\" multiple disabled />\n",
              "     <output id=\"result-21cba8f5-7afb-4004-8bb2-eb9bd4ad909f\">\n",
              "      Upload widget is only available when the cell has been executed in the\n",
              "      current browser session. Please rerun this cell to enable.\n",
              "      </output>\n",
              "      <script src=\"/nbextensions/google.colab/files.js\"></script> "
            ],
            "text/plain": [
              "<IPython.core.display.HTML object>"
            ]
          },
          "metadata": {
            "tags": []
          }
        },
        {
          "output_type": "stream",
          "text": [
            "Saving kuznets_data.csv to kuznets_data.csv\n"
          ],
          "name": "stdout"
        }
      ]
    },
    {
      "metadata": {
        "id": "S5h3mhsOhzgf",
        "colab_type": "text"
      },
      "cell_type": "markdown",
      "source": [
        "Transfrom file to a form readable by the pandas datframe."
      ]
    },
    {
      "metadata": {
        "id": "lAm84jnthn5G",
        "colab_type": "code",
        "colab": {
          "base_uri": "https://localhost:8080/",
          "height": 3264
        },
        "outputId": "91bf9b07-1e65-4a73-c4b5-678422242367"
      },
      "cell_type": "code",
      "source": [
        "df = pd.read_csv(io.StringIO(uploaded['kuznets_data.csv'].decode('utf-8')))           \n",
        "\n",
        "print(df)\n",
        "print(len(df.index))"
      ],
      "execution_count": 24,
      "outputs": [
        {
          "output_type": "stream",
          "text": [
            "                  Country  Total GHG Emissions  Total CO2   \\\n",
            "0             Afghanistan            19.558277      1.6598   \n",
            "1                 Albania             7.883510      4.1301   \n",
            "2                 Algeria           142.510170     96.2910   \n",
            "3                  Angola           106.124627     20.7232   \n",
            "4       Antigua & Barbuda             0.822867      0.4250   \n",
            "5               Argentina           319.787471    167.9118   \n",
            "6                 Armenia             7.158265      4.4514   \n",
            "7               Australia           592.515556    381.1014   \n",
            "8                 Austria            86.968662     74.8882   \n",
            "9              Azerbaijan            58.375908     35.1010   \n",
            "10           Bahamas, The             1.769708      1.5206   \n",
            "11                Bahrain            28.657944     24.5879   \n",
            "12             Bangladesh           129.782963     40.7328   \n",
            "13               Barbados             3.343607      1.3703   \n",
            "14                Belarus            94.736520     67.4804   \n",
            "15                Belgium           131.505330    114.4417   \n",
            "16                 Belize             8.164000      0.4324   \n",
            "17                  Benin             9.772900      3.9538   \n",
            "18                 Bhutan             0.997021      0.3920   \n",
            "19                Bolivia            36.782871     11.3460   \n",
            "20   Bosnia & Herzegovina            23.994362     17.8419   \n",
            "21               Botswana            12.689785      4.0200   \n",
            "22                 Brazil           840.587982    352.1808   \n",
            "23                 Brunei            18.710375      7.3309   \n",
            "24               Bulgaria            62.676571     49.6008   \n",
            "25           Burkina Faso            18.907014      1.3593   \n",
            "26                Burundi             2.076183      0.1869   \n",
            "27               Cambodia            22.945653      2.9500   \n",
            "28               Cameroon            82.697116      7.0490   \n",
            "29                 Canada           711.887280    551.2984   \n",
            "..                    ...                  ...         ...   \n",
            "158             Sri Lanka            33.650786     12.4588   \n",
            "159                 Sudan           137.821563     12.8089   \n",
            "160              Suriname             3.621770      2.4476   \n",
            "161             Swaziland             2.578443      1.0149   \n",
            "162                Sweden            62.016354     49.4893   \n",
            "163           Switzerland            53.782568     46.2715   \n",
            "164                 Syria            94.247977     60.8025   \n",
            "165            Tajikistan             7.634628      2.6792   \n",
            "166              Tanzania            58.857808      6.1715   \n",
            "167              Thailand           319.656322    232.5454   \n",
            "168                  Togo             4.928389      1.2994   \n",
            "169                 Tonga             0.303286      0.1282   \n",
            "170     Trinidad & Tobago            38.268008     37.1927   \n",
            "171               Tunisia            32.163491     24.8317   \n",
            "172                Turkey           346.156156    263.3448   \n",
            "173          Turkmenistan            88.264450     49.5540   \n",
            "174                Uganda            20.705736      2.6527   \n",
            "175               Ukraine           418.813753    317.1244   \n",
            "176  United Arab Emirates           154.085558    123.5274   \n",
            "177        United Kingdom           637.423428    543.2663   \n",
            "178         United States          6770.279909   5741.3823   \n",
            "179               Uruguay            34.107538      6.5178   \n",
            "180            Uzbekistan           217.901273    113.3396   \n",
            "181               Vanuatu             0.521014      0.0476   \n",
            "182             Venezuela           237.713233    156.3481   \n",
            "183               Vietnam           188.022699     99.8712   \n",
            "184                 World         39889.969250  29848.5048   \n",
            "185                 Yemen            27.431612     19.4328   \n",
            "186                Zambia            41.282840      2.2648   \n",
            "187              Zimbabwe            24.456947      9.7981   \n",
            "\n",
            "     Total CH4 (MtCO2e)  Total N2O (MtCO2e)  Total F-Gas (MtCO2e)  \\\n",
            "0               13.7283              4.0246                0.1455   \n",
            "1                2.5729              1.1642                0.0163   \n",
            "2               39.4431              5.2805                1.4955   \n",
            "3               69.7323             15.6048                0.0644   \n",
            "4                0.1650              0.0175                0.2153   \n",
            "5              103.6229             45.8576                2.3951   \n",
            "6                1.9652              0.5304                0.2113   \n",
            "7              124.4041             79.2378                7.7723   \n",
            "8                6.7036              4.0056                1.3712   \n",
            "9               20.2299              2.8513                0.1938   \n",
            "10               0.1971              0.0222                0.0299   \n",
            "11               3.7750              0.1354                0.1597   \n",
            "12              63.7389             25.0899                0.2213   \n",
            "13               1.9265              0.0270                0.0198   \n",
            "14              15.0365             12.0707                0.1490   \n",
            "15               7.4148              8.1572                1.4916   \n",
            "16               7.5429              0.1564                0.0324   \n",
            "17               3.3099              2.4852                0.0241   \n",
            "18               0.4835              0.1191                0.0024   \n",
            "19              17.6944              7.7138                0.0287   \n",
            "20               4.1799              1.7984                0.1741   \n",
            "21               4.4577              4.2083                0.0038   \n",
            "22             323.2026            158.3053                6.8993   \n",
            "23              11.2213              0.1043                0.0538   \n",
            "24               9.0958              3.5913                0.3886   \n",
            "25               9.3053              8.2270                0.0154   \n",
            "26               0.6151              1.2552                0.0191   \n",
            "27              15.4968              4.4358                0.0631   \n",
            "28              10.2304             65.3072                0.1105   \n",
            "29              99.6746             47.7442               13.1701   \n",
            "..                  ...                 ...                   ...   \n",
            "158             17.7519              3.2554                0.1847   \n",
            "159             77.4015             47.3322                0.2790   \n",
            "160              0.7900              0.3604                0.0237   \n",
            "161              1.1459              0.4116                0.0060   \n",
            "162              5.8359              5.3640                1.3272   \n",
            "163              4.2826              2.3905                0.8379   \n",
            "164             27.3203              5.3910                0.7342   \n",
            "165              2.9876              1.5496                0.4182   \n",
            "166             30.0470             22.5825                0.0567   \n",
            "167             66.1416             18.2961                2.6733   \n",
            "168              2.2221              1.3847                0.0222   \n",
            "169              0.1153              0.0586                0.0012   \n",
            "170              0.6336              0.2847                0.1570   \n",
            "171              4.3805              2.7263                0.2249   \n",
            "172             55.4889             25.3473                1.9752   \n",
            "173             35.0418              3.6299                0.0388   \n",
            "174              8.7729              9.2722                0.0078   \n",
            "175             80.2828             20.2404                1.1662   \n",
            "176             23.3656              5.9828                1.2097   \n",
            "177             54.5120             30.3878                9.2574   \n",
            "178            612.4353            266.9092              149.5532   \n",
            "179             19.0576              8.2299                0.3023   \n",
            "180             93.2534             10.9450                0.3632   \n",
            "181              0.3362              0.1339                0.0033   \n",
            "182             64.6330             12.8346                3.8975   \n",
            "183             66.9325             20.8277                0.3913   \n",
            "184           6670.2706           2758.1806              613.0132   \n",
            "185              4.5009              3.3526                0.1453   \n",
            "186             11.1563             27.8188                0.0429   \n",
            "187              8.7299              5.6051                0.3239   \n",
            "\n",
            "     GDP Per Capita    Population  \n",
            "0        280.245644  2.518362e+07  \n",
            "1       3005.012903  2.992547e+06  \n",
            "2       3467.544740  3.374933e+07  \n",
            "3       2825.073490  1.854147e+07  \n",
            "4               NaN           NaN  \n",
            "5       6639.909435  3.955875e+07  \n",
            "6       2126.618661  3.002161e+06  \n",
            "7      36084.858980  2.069790e+07  \n",
            "8      40430.993610  8.268641e+06  \n",
            "9       2473.085776  8.484550e+06  \n",
            "10     23721.156280  3.358010e+05  \n",
            "11     19669.319550  9.408080e+05  \n",
            "12       495.853780  1.448392e+08  \n",
            "13     15646.815010  2.750400e+05  \n",
            "14      3848.586203  9.604000e+06  \n",
            "15     38852.361030  1.054796e+07  \n",
            "16      4187.232890  2.907510e+05  \n",
            "17       609.018609           NaN  \n",
            "18      1346.085775  6.669200e+05  \n",
            "19      1233.592974  9.283345e+06  \n",
            "20              NaN           NaN  \n",
            "21      5342.140336  1.895671e+06  \n",
            "22      5809.189096  1.906982e+08  \n",
            "23              NaN           NaN  \n",
            "24              NaN           NaN  \n",
            "25              NaN           NaN  \n",
            "26              NaN           NaN  \n",
            "27       537.848583  1.352536e+07  \n",
            "28       965.368688  1.859711e+07  \n",
            "29     40243.552280  3.257050e+07  \n",
            "..              ...           ...  \n",
            "158             NaN           NaN  \n",
            "159      868.322775  3.280906e+07  \n",
            "160     5295.623648  4.959530e+05  \n",
            "161     2636.320016  1.118204e+06  \n",
            "162    46256.471600  9.080505e+06  \n",
            "163             NaN           NaN  \n",
            "164             NaN           NaN  \n",
            "165      407.252612  6.949566e+06  \n",
            "166      475.908765  4.026085e+07  \n",
            "167     3351.117633  6.617449e+07  \n",
            "168      384.288556  5.732175e+06  \n",
            "169     2837.075472  1.015070e+05  \n",
            "170             NaN           NaN  \n",
            "171     3394.428980  1.012790e+07  \n",
            "172     7727.272405  6.870472e+07  \n",
            "173     2140.455472  4.801594e+06  \n",
            "174      342.837264  2.900092e+07  \n",
            "175     2303.018831  4.678775e+07  \n",
            "176             NaN           NaN  \n",
            "177             NaN           NaN  \n",
            "178    46437.067120  2.983799e+08  \n",
            "179     5877.879608  3.331041e+06  \n",
            "180      642.960415  2.648825e+07  \n",
            "181     2047.088285  2.146350e+05  \n",
            "182             NaN           NaN  \n",
            "183      796.671574  8.331120e+07  \n",
            "184     7737.843620  6.595443e+09  \n",
            "185             NaN           NaN  \n",
            "186     1030.315360  1.238151e+07  \n",
            "187      414.680115  1.312794e+07  \n",
            "\n",
            "[188 rows x 8 columns]\n",
            "188\n"
          ],
          "name": "stdout"
        }
      ]
    },
    {
      "metadata": {
        "id": "DhdaDWL9lcKM",
        "colab_type": "code",
        "colab": {
          "base_uri": "https://localhost:8080/",
          "height": 170
        },
        "outputId": "28d5cf23-06cf-4cf1-ca06-063a7ab084d7"
      },
      "cell_type": "code",
      "source": [
        "df.dtypes"
      ],
      "execution_count": 17,
      "outputs": [
        {
          "output_type": "execute_result",
          "data": {
            "text/plain": [
              "Country                  object\n",
              "Total GHG Emissions     float64\n",
              "Total CO2               float64\n",
              "Total CH4 (MtCO2e)      float64\n",
              "Total N2O (MtCO2e)      float64\n",
              "Total F-Gas (MtCO2e)    float64\n",
              "GDP Per Capita          float64\n",
              "Population              float64\n",
              "dtype: object"
            ]
          },
          "metadata": {
            "tags": []
          },
          "execution_count": 17
        }
      ]
    },
    {
      "metadata": {
        "id": "ADEy40AcnAth",
        "colab_type": "code",
        "colab": {
          "base_uri": "https://localhost:8080/",
          "height": 68
        },
        "outputId": "bb54b2b6-eb86-438a-e397-0f2e335bd2b1"
      },
      "cell_type": "code",
      "source": [
        "null_columns=df.columns[df.isnull().any()]\n",
        "df[null_columns].isnull().sum()"
      ],
      "execution_count": 18,
      "outputs": [
        {
          "output_type": "execute_result",
          "data": {
            "text/plain": [
              "GDP Per Capita    34\n",
              "Population        35\n",
              "dtype: int64"
            ]
          },
          "metadata": {
            "tags": []
          },
          "execution_count": 18
        }
      ]
    },
    {
      "metadata": {
        "id": "n9ZXu_CTmW3M",
        "colab_type": "text"
      },
      "cell_type": "markdown",
      "source": [
        "In order to better work with the data, I am going to have to drop the null values because pandas does not play well weith them."
      ]
    },
    {
      "metadata": {
        "id": "sE-DPHjLmmXh",
        "colab_type": "code",
        "colab": {}
      },
      "cell_type": "code",
      "source": [
        "df.dropna()\n",
        "\n",
        "\n",
        "len(df.index)"
      ],
      "execution_count": 0,
      "outputs": []
    },
    {
      "metadata": {
        "id": "szjNnEdhnevq",
        "colab_type": "code",
        "colab": {
          "base_uri": "https://localhost:8080/",
          "height": 459
        },
        "outputId": "6857e5cb-9c76-4dca-d84a-f3caa9e02653"
      },
      "cell_type": "code",
      "source": [
        "print(df.head(5))\n",
        "print(df.tail(5))"
      ],
      "execution_count": 25,
      "outputs": [
        {
          "output_type": "stream",
          "text": [
            "             Country  Total GHG Emissions  Total CO2   Total CH4 (MtCO2e)  \\\n",
            "0        Afghanistan            19.558277      1.6598             13.7283   \n",
            "1            Albania             7.883510      4.1301              2.5729   \n",
            "2            Algeria           142.510170     96.2910             39.4431   \n",
            "3             Angola           106.124627     20.7232             69.7323   \n",
            "4  Antigua & Barbuda             0.822867      0.4250              0.1650   \n",
            "\n",
            "   Total N2O (MtCO2e)  Total F-Gas (MtCO2e)  GDP Per Capita  Population  \n",
            "0              4.0246                0.1455      280.245644  25183615.0  \n",
            "1              1.1642                0.0163     3005.012903   2992547.0  \n",
            "2              5.2805                1.4955     3467.544740  33749328.0  \n",
            "3             15.6048                0.0644     2825.073490  18541467.0  \n",
            "4              0.0175                0.2153             NaN         NaN  \n",
            "      Country  Total GHG Emissions  Total CO2   Total CH4 (MtCO2e)  \\\n",
            "183   Vietnam           188.022699     99.8712             66.9325   \n",
            "184     World         39889.969250  29848.5048           6670.2706   \n",
            "185     Yemen            27.431612     19.4328              4.5009   \n",
            "186    Zambia            41.282840      2.2648             11.1563   \n",
            "187  Zimbabwe            24.456947      9.7981              8.7299   \n",
            "\n",
            "     Total N2O (MtCO2e)  Total F-Gas (MtCO2e)  GDP Per Capita    Population  \n",
            "183             20.8277                0.3913      796.671574  8.331120e+07  \n",
            "184           2758.1806              613.0132     7737.843620  6.595443e+09  \n",
            "185              3.3526                0.1453             NaN           NaN  \n",
            "186             27.8188                0.0429     1030.315360  1.238151e+07  \n",
            "187              5.6051                0.3239      414.680115  1.312794e+07  \n"
          ],
          "name": "stdout"
        }
      ]
    },
    {
      "metadata": {
        "id": "jNj-bgeUrFq7",
        "colab_type": "code",
        "colab": {}
      },
      "cell_type": "code",
      "source": [
        ""
      ],
      "execution_count": 0,
      "outputs": []
    }
  ]
}