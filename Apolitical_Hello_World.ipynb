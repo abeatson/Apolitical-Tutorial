{
  "nbformat": 4,
  "nbformat_minor": 0,
  "metadata": {
    "colab": {
      "name": "Apolitical: Hello World.ipynb",
      "version": "0.3.2",
      "provenance": [],
      "collapsed_sections": [],
      "include_colab_link": true
    },
    "kernelspec": {
      "name": "python3",
      "display_name": "Python 3"
    }
  },
  "cells": [
    {
      "cell_type": "markdown",
      "metadata": {
        "id": "view-in-github",
        "colab_type": "text"
      },
      "source": [
        "<a href=\"https://colab.research.google.com/github/abeatson/Apolitical-Tutorial/blob/master/Apolitical_Hello_World.ipynb\" target=\"_parent\"><img src=\"https://colab.research.google.com/assets/colab-badge.svg\" alt=\"Open In Colab\"/></a>"
      ]
    },
    {
      "metadata": {
        "id": "SWoPfSlSOwQe",
        "colab_type": "text"
      },
      "cell_type": "markdown",
      "source": [
        "# Hello World\n",
        "\n",
        "**A practical introduction to data science and programming for policymakers**\n",
        "\n",
        "Before you start:\n",
        "\n",
        "* make sure you are logged in to your Google account\n",
        "* copy this notebook to your Google Drive using the \"Copy to Drive\" button above\n",
        "* open the copy and use that if you want to follow along interactively"
      ]
    },
    {
      "metadata": {
        "id": "tI5BpdSxPvan",
        "colab_type": "text"
      },
      "cell_type": "markdown",
      "source": [
        "## What am I looking at?\n",
        "\n",
        "Code is written in lines, which the computer reads one after another when you run your program. Each line gives the computer an instruction, which it handles before moving on to the next line.\n",
        "\n",
        "Here is a line of code that makes a \"variable\" (which is like a box to store information in) and puts the number `185` in that box.\n"
      ]
    },
    {
      "metadata": {
        "id": "nSkBedVZRR9Q",
        "colab_type": "code",
        "outputId": "1567d193-8853-47ec-a067-229d9e753deb",
        "colab": {
          "base_uri": "https://localhost:8080/",
          "height": 34
        }
      },
      "cell_type": "code",
      "source": [
        "my_height = 190 \n",
        "# Try changing this to your height and rerun the block\n",
        "\n",
        "print(my_height)"
      ],
      "execution_count": 1,
      "outputs": [
        {
          "output_type": "stream",
          "text": [
            "190\n"
          ],
          "name": "stdout"
        }
      ]
    },
    {
      "metadata": {
        "id": "1DAXvN0JLEMB",
        "colab_type": "text"
      },
      "cell_type": "markdown",
      "source": [
        "In a notebook like this, you can \"run\" blocks of code by hovering over the square brackets on the left and clicking the 'play' button that appears. Do this now with the line above."
      ]
    },
    {
      "metadata": {
        "id": "87yhsgMSRWlh",
        "colab_type": "text"
      },
      "cell_type": "markdown",
      "source": [
        "Now you can use the box instead of the number, and do calculations with it. Let's say we want to make sure we don't bang our heads on a door - how high does it need to be?\n",
        "\n"
      ]
    },
    {
      "metadata": {
        "id": "NU8tiDC8Rk8Q",
        "colab_type": "code",
        "outputId": "de693b73-0d5a-4ebc-dbeb-bcdbab97b3b1",
        "colab": {
          "base_uri": "https://localhost:8080/",
          "height": 34
        }
      },
      "cell_type": "code",
      "source": [
        "door_height = my_height + 30 \n",
        "# Try changing the number, or subtracting instead of adding\n",
        "\n",
        "print(door_height)"
      ],
      "execution_count": 0,
      "outputs": [
        {
          "output_type": "stream",
          "text": [
            "215\n"
          ],
          "name": "stdout"
        }
      ]
    },
    {
      "metadata": {
        "id": "gnzsGTY6LdeK",
        "colab_type": "text"
      },
      "cell_type": "markdown",
      "source": [
        "If you go to the menu in the top left of this page, look for \"Runtime\" and click it, you can select \"Run All\" from the drop-down menu that appears. This will run all the cells in a notebook, one after the other. Try it!"
      ]
    },
    {
      "metadata": {
        "id": "cIliEbm4TKBv",
        "colab_type": "text"
      },
      "cell_type": "markdown",
      "source": [
        "This box currently holds just one thing - the number `185`. But you can put lots of things into these boxes!"
      ]
    },
    {
      "metadata": {
        "id": "CkPW9_8ETeTG",
        "colab_type": "code",
        "outputId": "03eb7721-6bf0-42c4-808e-49dd95273977",
        "colab": {
          "base_uri": "https://localhost:8080/",
          "height": 34
        }
      },
      "cell_type": "code",
      "source": [
        "my_name = \"A. Policymaker\" \n",
        "# Try changing this to your name\n",
        "\n",
        "print(f'{my_name} is {my_height} cm tall')"
      ],
      "execution_count": 0,
      "outputs": [
        {
          "output_type": "stream",
          "text": [
            "A. Policymaker is 185 cm tall\n"
          ],
          "name": "stdout"
        }
      ]
    },
    {
      "metadata": {
        "id": "-bQg5nk2Tmr2",
        "colab_type": "text"
      },
      "cell_type": "markdown",
      "source": [
        "This line of code creates a new box, labelled \"my_name\" and puts some text inside. We call this a 'string'.\n",
        "\n",
        "But this isn't *your* name! We can fix that. Double click on the line of code above and delete the name, replacing it with whatever you want. Make sure you enclose it in a pair of quotation marks. When you're ready, click the Play button. Your own name, or whatever other text you chose, should be printed underneath the block.\n",
        "\n",
        "Variables do not have to hold just one piece of information. They can also be used to hold multiple pieces. However, there are a few different ways to organise *collections* of information. Let's look at two important ways!"
      ]
    },
    {
      "metadata": {
        "id": "d7yOZQP7VyZa",
        "colab_type": "code",
        "colab": {}
      },
      "cell_type": "code",
      "source": [
        "cat_names = [\"Tiger\", \"Mustard\", \"Derek\"] \n",
        "# Try adding a fourth name"
      ],
      "execution_count": 0,
      "outputs": []
    },
    {
      "metadata": {
        "id": "hce_sxPpV_-q",
        "colab_type": "text"
      },
      "cell_type": "markdown",
      "source": [
        "Running this line of code creates a new variable, a box in which we put three items: the names of a trio of cats. This kind of collection is simply called a **list**. We use square brackets to tell Python we're making a list, and separate the entries, or \"elements\", using commas.\n",
        "\n",
        "Once we've created a list, we can take out different items by requesting e.g. the item at position 2:"
      ]
    },
    {
      "metadata": {
        "id": "9CGhOsw_W6Pf",
        "colab_type": "code",
        "outputId": "8d526f79-6ea5-4a88-ce37-6abc6e5e6f84",
        "colab": {
          "base_uri": "https://localhost:8080/",
          "height": 34
        }
      },
      "cell_type": "code",
      "source": [
        "cat_names[2]\n",
        "# Change this to access the name you added above"
      ],
      "execution_count": 0,
      "outputs": [
        {
          "output_type": "execute_result",
          "data": {
            "text/plain": [
              "'Derek'"
            ]
          },
          "metadata": {
            "tags": []
          },
          "execution_count": 6
        }
      ]
    },
    {
      "metadata": {
        "id": "0HCNF8uxYhkG",
        "colab_type": "text"
      },
      "cell_type": "markdown",
      "source": [
        "... alas, computers count from zero, so you do have to get used to thinking of the \"zeroth\" item in a list:"
      ]
    },
    {
      "metadata": {
        "id": "YNnIDWoeYudK",
        "colab_type": "code",
        "outputId": "2d755395-4a45-49a6-b209-72ed4f917fc8",
        "colab": {
          "base_uri": "https://localhost:8080/",
          "height": 34
        }
      },
      "cell_type": "code",
      "source": [
        "cat_names[0]"
      ],
      "execution_count": 0,
      "outputs": [
        {
          "output_type": "execute_result",
          "data": {
            "text/plain": [
              "'Tiger'"
            ]
          },
          "metadata": {
            "tags": []
          },
          "execution_count": 7
        }
      ]
    },
    {
      "metadata": {
        "id": "6p8S85kBYx9p",
        "colab_type": "text"
      },
      "cell_type": "markdown",
      "source": [
        "A list is an \"ordered collection\". It's used to store a sequence of information, allowing you to retrieve specific items within that sequence as-needed.\n",
        "\n",
        "This is not the only way to organise information. The other type of collection we're going to look at is called a **dictionary**. You can make one like this:"
      ]
    },
    {
      "metadata": {
        "id": "WXka76_aZYud",
        "colab_type": "code",
        "colab": {}
      },
      "cell_type": "code",
      "source": [
        "country_populations = {\n",
        "    \"Indonesia\": 263_991_379, \n",
        "    \"Ethiopia\": 104_957_438, \n",
        "    \"Italy\": 59_359_900, \n",
        "    \"Malta\": 430_835,\n",
        "}\n",
        "# Try adding your country to the dictionary"
      ],
      "execution_count": 0,
      "outputs": []
    },
    {
      "metadata": {
        "id": "Rl-Ygd1zarbf",
        "colab_type": "text"
      },
      "cell_type": "markdown",
      "source": [
        "A dictionary comprises pairs of *keys* and *values*.\n",
        "\n",
        "Each pair is denoted by typing `<key-name>: <corresponding-value>`\n",
        "\n",
        "We use curly brackets to tell Python that we're making a dictionary, and separate the key-value pairs with commas."
      ]
    },
    {
      "metadata": {
        "id": "WXboT7JTbvzS",
        "colab_type": "code",
        "outputId": "aa2b6c40-59c7-446a-edf9-a5c2b6438a3a",
        "colab": {
          "base_uri": "https://localhost:8080/",
          "height": 34
        }
      },
      "cell_type": "code",
      "source": [
        "country_populations[\"Indonesia\"]\n",
        "# Now try accessing the population for Italy, or the country you just added"
      ],
      "execution_count": 0,
      "outputs": [
        {
          "output_type": "execute_result",
          "data": {
            "text/plain": [
              "263991379"
            ]
          },
          "metadata": {
            "tags": []
          },
          "execution_count": 9
        }
      ]
    },
    {
      "metadata": {
        "id": "55fXZoRFb1n6",
        "colab_type": "text"
      },
      "cell_type": "markdown",
      "source": [
        "If you want to look up the definition of a word, you might reach for your dictionary and look for that word, finding the definition next to it.\n",
        "\n",
        "Python dictionaries work in the same way - you can look up one of the values in `country_populations` by looking up the relevant key. As you can see, you get back the value that you originally stored next to it.\n",
        "\n",
        "Dictionaries are an *unordered collection* - you can supply the key-value pairs in any order you like, but you'll always get the same value out when you look up a particular key."
      ]
    },
    {
      "metadata": {
        "id": "M66LD-yWQfSm",
        "colab_type": "text"
      },
      "cell_type": "markdown",
      "source": [
        "## What is data?\n",
        "\n",
        "Data are *facts and statistics collected together for reference and/or analysis*.\n",
        "\n",
        "Data can take many different forms - like cat names, or population statistics! \n",
        "\n",
        "Indeed, the \"datafication\" of our society - the collection of new forms of data from an ever-increasing variety of aspects of everyday life - is an extremely important ongoing trend.\n",
        "\n",
        "**In this tutorial we will be focusing on working with data organised in tables, something which is easy to get started with in Python.**"
      ]
    },
    {
      "metadata": {
        "id": "9_HfhXniRZjA",
        "colab_type": "text"
      },
      "cell_type": "markdown",
      "source": [
        "This next line gets hold of a code *library* named \"Pandas\" (a Python data analysis library).\n",
        "\n",
        "Python libraries contain code suited to performing particular tasks. Just like you might open up a spreadsheet program on your computer to deal with tables, so we \"import\" the tools we need into this notebook."
      ]
    },
    {
      "metadata": {
        "id": "sShK5fnPc4IH",
        "colab_type": "code",
        "colab": {}
      },
      "cell_type": "code",
      "source": [
        "import pandas"
      ],
      "execution_count": 0,
      "outputs": []
    },
    {
      "metadata": {
        "id": "htNvDpZpSMLd",
        "colab_type": "text"
      },
      "cell_type": "markdown",
      "source": [
        "Tables, of course, contain *columns* and *rows*. Here's a (fictitious) example:\n",
        "\n",
        "`People`\n",
        "\n",
        "```\n",
        "Name       | Height | Country   | Age\n",
        "-------------------------------------\n",
        "Hasan      |  173.5 | Indonesia |  36  \n",
        "Alessandra |  160.2 | Italy     |  28\n",
        "Elias      |  180.1 | Ethiopia  |  53\n",
        "Marco      |  179.2 | Italy     |  34\n",
        "  ...\n",
        "```\n",
        "\n",
        "Each row in this table corresponds to a person, while each column is a particular measurement or observation that we've made *about* that person. This is a best-practice for tabular data.\n",
        "\n",
        "The pandas library gives us access to a special collection (like the lists and dictionaries we looked at before) for tables. It's called a **DataFrame**. You can make one as follows:"
      ]
    },
    {
      "metadata": {
        "id": "pciN3tK1cwKr",
        "colab_type": "code",
        "colab": {}
      },
      "cell_type": "code",
      "source": [
        "raw_data = {\n",
        "    \"Name\": [\"Hasan\", \"Alessandra\", \"Elias\", \"Marco\"],\n",
        "    \"Country\": [\"Indonesia\", \"Italy\", \"Ethiopia\", \"Italy\"],\n",
        "    \"Age\": [36, 28, 53, 34],\n",
        "    \"Height\": [173.5, 160.2, 180.1, 179.2],\n",
        "}\n",
        "# Try adding yourself to this dictionary\n",
        "\n",
        "people = pandas.DataFrame(raw_data)"
      ],
      "execution_count": 0,
      "outputs": []
    },
    {
      "metadata": {
        "id": "F4tBe2kkgYwg",
        "colab_type": "text"
      },
      "cell_type": "markdown",
      "source": [
        "Let's review what we did: \n",
        "\n",
        "1. the first thing was to create a dictionary called `raw_data`. Notice that the *keys* are the column names, and each corresponding *value* is a Python list containing the data in that column.\n",
        "2. next we used a special command, `pd.DataFrame(raw_data)`, which tells the computer to turn `raw_data` into a pandas DataFrame."
      ]
    },
    {
      "metadata": {
        "id": "kMXxULY1gY5U",
        "colab_type": "code",
        "outputId": "58dcbe86-a9f1-4f41-932b-630927045313",
        "colab": {
          "base_uri": "https://localhost:8080/",
          "height": 175
        }
      },
      "cell_type": "code",
      "source": [
        "people"
      ],
      "execution_count": 0,
      "outputs": [
        {
          "output_type": "execute_result",
          "data": {
            "text/html": [
              "<div>\n",
              "<style scoped>\n",
              "    .dataframe tbody tr th:only-of-type {\n",
              "        vertical-align: middle;\n",
              "    }\n",
              "\n",
              "    .dataframe tbody tr th {\n",
              "        vertical-align: top;\n",
              "    }\n",
              "\n",
              "    .dataframe thead th {\n",
              "        text-align: right;\n",
              "    }\n",
              "</style>\n",
              "<table border=\"1\" class=\"dataframe\">\n",
              "  <thead>\n",
              "    <tr style=\"text-align: right;\">\n",
              "      <th></th>\n",
              "      <th>Age</th>\n",
              "      <th>Country</th>\n",
              "      <th>Height</th>\n",
              "      <th>Name</th>\n",
              "    </tr>\n",
              "  </thead>\n",
              "  <tbody>\n",
              "    <tr>\n",
              "      <th>0</th>\n",
              "      <td>36</td>\n",
              "      <td>Indonesia</td>\n",
              "      <td>173.5</td>\n",
              "      <td>Hasan</td>\n",
              "    </tr>\n",
              "    <tr>\n",
              "      <th>1</th>\n",
              "      <td>28</td>\n",
              "      <td>Italy</td>\n",
              "      <td>160.2</td>\n",
              "      <td>Alessandra</td>\n",
              "    </tr>\n",
              "    <tr>\n",
              "      <th>2</th>\n",
              "      <td>53</td>\n",
              "      <td>Ethiopia</td>\n",
              "      <td>180.1</td>\n",
              "      <td>Elias</td>\n",
              "    </tr>\n",
              "    <tr>\n",
              "      <th>3</th>\n",
              "      <td>34</td>\n",
              "      <td>Italy</td>\n",
              "      <td>179.2</td>\n",
              "      <td>Marco</td>\n",
              "    </tr>\n",
              "  </tbody>\n",
              "</table>\n",
              "</div>"
            ],
            "text/plain": [
              "   Age    Country  Height        Name\n",
              "0   36  Indonesia   173.5       Hasan\n",
              "1   28      Italy   160.2  Alessandra\n",
              "2   53   Ethiopia   180.1       Elias\n",
              "3   34      Italy   179.2       Marco"
            ]
          },
          "metadata": {
            "tags": []
          },
          "execution_count": 12
        }
      ]
    },
    {
      "metadata": {
        "id": "DqXq64HqeZon",
        "colab_type": "text"
      },
      "cell_type": "markdown",
      "source": [
        "Handy! That's very clearly a table.\n",
        "\n",
        "Things to notice:\n",
        "* column names are at the top - they've been alphabetised.\n",
        "* each row has a number down the left hand side (starting from zero, like with the list). This is called the row's *index*.\n",
        "\n",
        "You can select a column like this:"
      ]
    },
    {
      "metadata": {
        "id": "MDfpt-9nwPGT",
        "colab_type": "code",
        "outputId": "6e811b3d-1973-4392-b785-c6675cc8895a",
        "colab": {
          "base_uri": "https://localhost:8080/",
          "height": 104
        }
      },
      "cell_type": "code",
      "source": [
        "people[\"Age\"]\n",
        "# Try selecting a different column, like Name"
      ],
      "execution_count": 0,
      "outputs": [
        {
          "output_type": "execute_result",
          "data": {
            "text/plain": [
              "0    36\n",
              "1    28\n",
              "2    53\n",
              "3    34\n",
              "Name: Age, dtype: int64"
            ]
          },
          "metadata": {
            "tags": []
          },
          "execution_count": 13
        }
      ]
    },
    {
      "metadata": {
        "id": "d9hUCeaHwiaD",
        "colab_type": "text"
      },
      "cell_type": "markdown",
      "source": [
        "This is just like getting a value out of a dictionary using its key. Notice that the column has retained its index, but is no longer a fully-fledged DataFrame (although in many respects it can be used in the same way). Pandas calls this a \"Series\"."
      ]
    },
    {
      "metadata": {
        "id": "CC2qkrJxwNBt",
        "colab_type": "text"
      },
      "cell_type": "markdown",
      "source": [
        "If you've ever used a spreadsheet, you'll see that the column names and the index are analogous to the column letters and row numbers. And, just as you can click on cell B2 in a spreadsheet to get its value, so can you get the value of a cell in a DataFrame:"
      ]
    },
    {
      "metadata": {
        "id": "4S-4TbiWwEBG",
        "colab_type": "code",
        "outputId": "55b03ea2-b870-4d64-9b74-a2e65becbdd0",
        "colab": {
          "base_uri": "https://localhost:8080/",
          "height": 34
        }
      },
      "cell_type": "code",
      "source": [
        "people.loc[2, \"Country\"]\n",
        "# Try changing the row and column to access a different piece of data"
      ],
      "execution_count": 0,
      "outputs": [
        {
          "output_type": "execute_result",
          "data": {
            "text/plain": [
              "'Ethiopia'"
            ]
          },
          "metadata": {
            "tags": []
          },
          "execution_count": 14
        }
      ]
    },
    {
      "metadata": {
        "id": "YijLPSBbw9GZ",
        "colab_type": "text"
      },
      "cell_type": "markdown",
      "source": [
        "`.loc[]` is a DataFrame's *locator*. Here we have selected the row 2 and the column  \"Country\".\n",
        "\n",
        "Referring back to the table, try changing the row and column in the block above and re-running it. Make sure that the value that appears under the block is what you expect."
      ]
    },
    {
      "metadata": {
        "id": "jQ8TM8FXy4FW",
        "colab_type": "text"
      },
      "cell_type": "markdown",
      "source": [
        "## Analysing Data\n",
        "\n",
        "We've successfully got some data into Python. But that's only the first step. With new data, we typically want to undertake an **exploratory data analysis** (EDA for short).\n",
        "\n",
        "An EDA can take many forms, but all approaches have the same goal: to uncover patterns or features that exist within the dataset.\n",
        "\n",
        "Our example data is very simple. With only three rows and four columns you might not think there's much to explore. Yet even a simple, small dataset can yield insights.\n"
      ]
    },
    {
      "metadata": {
        "id": "aCi9gbgfnupL",
        "colab_type": "text"
      },
      "cell_type": "markdown",
      "source": [
        "###  Summarising Data\n",
        "\n",
        "Pandas can calculate a variety of summary statistics. Most straightforwardly:"
      ]
    },
    {
      "metadata": {
        "id": "-tv6-EglfK2R",
        "colab_type": "code",
        "outputId": "b35edf59-cb41-4170-cd36-3b4fe673e7de",
        "colab": {
          "base_uri": "https://localhost:8080/",
          "height": 300
        }
      },
      "cell_type": "code",
      "source": [
        "people.describe()"
      ],
      "execution_count": 0,
      "outputs": [
        {
          "output_type": "execute_result",
          "data": {
            "text/html": [
              "<div>\n",
              "<style scoped>\n",
              "    .dataframe tbody tr th:only-of-type {\n",
              "        vertical-align: middle;\n",
              "    }\n",
              "\n",
              "    .dataframe tbody tr th {\n",
              "        vertical-align: top;\n",
              "    }\n",
              "\n",
              "    .dataframe thead th {\n",
              "        text-align: right;\n",
              "    }\n",
              "</style>\n",
              "<table border=\"1\" class=\"dataframe\">\n",
              "  <thead>\n",
              "    <tr style=\"text-align: right;\">\n",
              "      <th></th>\n",
              "      <th>Age</th>\n",
              "      <th>Height</th>\n",
              "    </tr>\n",
              "  </thead>\n",
              "  <tbody>\n",
              "    <tr>\n",
              "      <th>count</th>\n",
              "      <td>4.000000</td>\n",
              "      <td>4.00000</td>\n",
              "    </tr>\n",
              "    <tr>\n",
              "      <th>mean</th>\n",
              "      <td>37.750000</td>\n",
              "      <td>173.25000</td>\n",
              "    </tr>\n",
              "    <tr>\n",
              "      <th>std</th>\n",
              "      <td>10.719919</td>\n",
              "      <td>9.17769</td>\n",
              "    </tr>\n",
              "    <tr>\n",
              "      <th>min</th>\n",
              "      <td>28.000000</td>\n",
              "      <td>160.20000</td>\n",
              "    </tr>\n",
              "    <tr>\n",
              "      <th>25%</th>\n",
              "      <td>32.500000</td>\n",
              "      <td>170.17500</td>\n",
              "    </tr>\n",
              "    <tr>\n",
              "      <th>50%</th>\n",
              "      <td>35.000000</td>\n",
              "      <td>176.35000</td>\n",
              "    </tr>\n",
              "    <tr>\n",
              "      <th>75%</th>\n",
              "      <td>40.250000</td>\n",
              "      <td>179.42500</td>\n",
              "    </tr>\n",
              "    <tr>\n",
              "      <th>max</th>\n",
              "      <td>53.000000</td>\n",
              "      <td>180.10000</td>\n",
              "    </tr>\n",
              "  </tbody>\n",
              "</table>\n",
              "</div>"
            ],
            "text/plain": [
              "             Age     Height\n",
              "count   4.000000    4.00000\n",
              "mean   37.750000  173.25000\n",
              "std    10.719919    9.17769\n",
              "min    28.000000  160.20000\n",
              "25%    32.500000  170.17500\n",
              "50%    35.000000  176.35000\n",
              "75%    40.250000  179.42500\n",
              "max    53.000000  180.10000"
            ]
          },
          "metadata": {
            "tags": []
          },
          "execution_count": 15
        }
      ]
    },
    {
      "metadata": {
        "id": "Xcos17wjf03p",
        "colab_type": "text"
      },
      "cell_type": "markdown",
      "source": [
        "The `describe` *method* calculates a variety of common summary statistics on all DataFrame columns that contain *numerical* data. You may recognise what some or all of these summary statistics mean.\n",
        "\n",
        "(\"method\" is the proper term for code written in this manner - `dataframe.method()`. They are used to do processing on the data held in a DataFrame.)"
      ]
    },
    {
      "metadata": {
        "id": "8YX9BJU-jkaY",
        "colab_type": "text"
      },
      "cell_type": "markdown",
      "source": [
        "A good approach with *non-* numerical data can be do count the number of occurences of each value in a particular column. For example:"
      ]
    },
    {
      "metadata": {
        "id": "FGFJrphZhPZm",
        "colab_type": "code",
        "outputId": "639374ad-c5ce-480a-8262-9377d010a7e8",
        "colab": {
          "base_uri": "https://localhost:8080/",
          "height": 86
        }
      },
      "cell_type": "code",
      "source": [
        "people[\"Country\"].value_counts()"
      ],
      "execution_count": 0,
      "outputs": [
        {
          "output_type": "execute_result",
          "data": {
            "text/plain": [
              "Italy        2\n",
              "Ethiopia     1\n",
              "Indonesia    1\n",
              "Name: Country, dtype: int64"
            ]
          },
          "metadata": {
            "tags": []
          },
          "execution_count": 16
        }
      ]
    },
    {
      "metadata": {
        "id": "4wo-wK-zhX5_",
        "colab_type": "text"
      },
      "cell_type": "markdown",
      "source": [
        "In this small dataset, this Series isn't telling you anything that you don't already know, but it will come in handy when we deal with larger datasets.\n",
        "\n",
        "Note that the value counts Series is indexed by the Countries! The index of a DataFrame or Series doesn't have to be the row numbers; that's just the default."
      ]
    },
    {
      "metadata": {
        "id": "OVg524RWnjah",
        "colab_type": "text"
      },
      "cell_type": "markdown",
      "source": [
        "### Subsetting data\n",
        "\n",
        "Often, we are not interested in the entire dataset, and would like to explore only a subset. Pandas makes this easy. Previously we used the DataFrame's locator to get the value in a specific cell. We can also get specific columns of data:"
      ]
    },
    {
      "metadata": {
        "id": "-t3yn_ZMoefX",
        "colab_type": "code",
        "outputId": "b2350a6e-f0ca-4628-af8a-7e2f8e5c9a4b",
        "colab": {
          "base_uri": "https://localhost:8080/",
          "height": 112
        }
      },
      "cell_type": "code",
      "source": [
        "people.loc[[0,1], [\"Name\", \"Country\"]]\n",
        "# Try selecting all the rows, or changing the columns"
      ],
      "execution_count": 0,
      "outputs": [
        {
          "output_type": "execute_result",
          "data": {
            "text/html": [
              "<div>\n",
              "<style scoped>\n",
              "    .dataframe tbody tr th:only-of-type {\n",
              "        vertical-align: middle;\n",
              "    }\n",
              "\n",
              "    .dataframe tbody tr th {\n",
              "        vertical-align: top;\n",
              "    }\n",
              "\n",
              "    .dataframe thead th {\n",
              "        text-align: right;\n",
              "    }\n",
              "</style>\n",
              "<table border=\"1\" class=\"dataframe\">\n",
              "  <thead>\n",
              "    <tr style=\"text-align: right;\">\n",
              "      <th></th>\n",
              "      <th>Name</th>\n",
              "      <th>Country</th>\n",
              "    </tr>\n",
              "  </thead>\n",
              "  <tbody>\n",
              "    <tr>\n",
              "      <th>0</th>\n",
              "      <td>Hasan</td>\n",
              "      <td>Indonesia</td>\n",
              "    </tr>\n",
              "    <tr>\n",
              "      <th>1</th>\n",
              "      <td>Alessandra</td>\n",
              "      <td>Italy</td>\n",
              "    </tr>\n",
              "  </tbody>\n",
              "</table>\n",
              "</div>"
            ],
            "text/plain": [
              "         Name    Country\n",
              "0       Hasan  Indonesia\n",
              "1  Alessandra      Italy"
            ]
          },
          "metadata": {
            "tags": []
          },
          "execution_count": 17
        }
      ]
    },
    {
      "metadata": {
        "id": "TTPFsVlyozrl",
        "colab_type": "text"
      },
      "cell_type": "markdown",
      "source": [
        "You should think carefully about what we did here. Rather than put a particular value of index and column into the locator, we gave it a *list of index values* and a *list of column values*, and this gave us a new DataFrame with all the selected rows and columns.\n",
        "\n",
        "You should try re-running this line with different choices!"
      ]
    },
    {
      "metadata": {
        "id": "5SEkl1TqeHMp",
        "colab_type": "text"
      },
      "cell_type": "markdown",
      "source": [
        "### Visualising Data\n",
        "\n",
        "*Visualisation tools* play a very important role in exploratory data analysis, and so Pandas has a whole suite of them. Here's an example:\n"
      ]
    },
    {
      "metadata": {
        "id": "r13PTxuLcRZ9",
        "colab_type": "code",
        "outputId": "9d1605ca-1ebf-4458-ac64-7f388081b98b",
        "colab": {
          "base_uri": "https://localhost:8080/",
          "height": 378
        }
      },
      "cell_type": "code",
      "source": [
        "people.plot.scatter(x=\"Height\", y=\"Age\", color=\"blue\")\n",
        "# Try changing the colour of the points to red, or green"
      ],
      "execution_count": 0,
      "outputs": [
        {
          "output_type": "execute_result",
          "data": {
            "text/plain": [
              "<matplotlib.axes._subplots.AxesSubplot at 0x7f3a5d92c710>"
            ]
          },
          "metadata": {
            "tags": []
          },
          "execution_count": 18
        },
        {
          "output_type": "display_data",
          "data": {
            "image/png": "[encoded data removed]",
            "text/plain": [
              "<matplotlib.figure.Figure at 0x7f3a5d92c208>"
            ]
          },
          "metadata": {
            "tags": []
          }
        }
      ]
    },
    {
      "metadata": {
        "id": "hr2BeRb3cr46",
        "colab_type": "text"
      },
      "cell_type": "markdown",
      "source": [
        "This has created a *scatter plot*. The plot methods are designed to be intuitive, and a variety of different charts are available. Here's another kind:"
      ]
    },
    {
      "metadata": {
        "id": "za9BvvYRdMRw",
        "colab_type": "code",
        "outputId": "49e7a9d9-d2f5-47de-af45-ab146aeaea2b",
        "colab": {
          "base_uri": "https://localhost:8080/",
          "height": 347
        }
      },
      "cell_type": "code",
      "source": [
        "people[\"Country\"].value_counts().plot.pie()"
      ],
      "execution_count": 0,
      "outputs": [
        {
          "output_type": "execute_result",
          "data": {
            "text/plain": [
              "<matplotlib.axes._subplots.AxesSubplot at 0x7f3a5d8d6400>"
            ]
          },
          "metadata": {
            "tags": []
          },
          "execution_count": 19
        },
        {
          "output_type": "display_data",
          "data": {
            "image/png": "[encoded data removed]",
            "text/plain": [
              "<matplotlib.figure.Figure at 0x7f3a5d8a9518>"
            ]
          },
          "metadata": {
            "tags": []
          }
        }
      ]
    },
    {
      "metadata": {
        "id": "o6gpNIqCiMN8",
        "colab_type": "text"
      },
      "cell_type": "markdown",
      "source": [
        "In this case we once again used the `.value_counts()` method, which counts the number of occurences of each unique value in the Country column. We then immediately used the `.plot.pie()` method, which, as you might guess, makes a pie chart. \n",
        "\n",
        "(That you can \"chain\" methods together like this makes Pandas extremely concise, allowing you to focus on results!)"
      ]
    },
    {
      "metadata": {
        "id": "nJnGBH9RR728",
        "colab_type": "text"
      },
      "cell_type": "markdown",
      "source": [
        "## Where does data come from?\n",
        "\n",
        "For the above demonstration we invented a tiny dataset to show off a few things Pandas can do. But what about real data?\n",
        "\n",
        "As data has become more open, freely accessible datasets have proliferated. This has democratised data analysis - the challenge is no longer always to do with data collection; increasingly it is to find relevant data that already exists.\n",
        "\n",
        "It's easy to use Python to read data, and Pandas can read data from a wide variety of file types.\n",
        "\n",
        "Let's start by looking at a [freely available dataset](https://data.gov.uk/dataset/47f7438a-506d-49c9-b565-7573f8df031e/defence-infrastructure-organisation-disposals-database-house-of-commons-report) provided by data.gov.uk - it's been stored in CSV format, a very common type of data which you could also open in a spreadsheet program. Pandas has a way to read CSV files hosted on the internet. It works like this:"
      ]
    },
    {
      "metadata": {
        "id": "eiDJLYYGdg8-",
        "colab_type": "code",
        "outputId": "3f2b336c-c9f3-4b3a-80ea-379bcbf67e10",
        "colab": {
          "base_uri": "https://localhost:8080/",
          "height": 213
        }
      },
      "cell_type": "code",
      "source": [
        "disposals = pandas.read_csv(\n",
        "    \"https://assets.publishing.service.gov.uk/government/uploads/system/uploads/attachment_data/file/741693/20180917_House_of_Commons_Report.csv\", \n",
        "    skiprows=4 # We skip the first 4 rows as this CSV has some information at the start that we don't want\n",
        ")\n",
        "# Try fetching the January 2018 report instead. It's at https://assets.publishing.service.gov.uk/government/uploads/system/uploads/attachment_data/file/673920/20180112_House_of_Commons_Report.csv\n",
        "\n",
        "disposals.head(3)"
      ],
      "execution_count": 0,
      "outputs": [
        {
          "output_type": "execute_result",
          "data": {
            "text/html": [
              "<div>\n",
              "<style scoped>\n",
              "    .dataframe tbody tr th:only-of-type {\n",
              "        vertical-align: middle;\n",
              "    }\n",
              "\n",
              "    .dataframe tbody tr th {\n",
              "        vertical-align: top;\n",
              "    }\n",
              "\n",
              "    .dataframe thead th {\n",
              "        text-align: right;\n",
              "    }\n",
              "</style>\n",
              "<table border=\"1\" class=\"dataframe\">\n",
              "  <thead>\n",
              "    <tr style=\"text-align: right;\">\n",
              "      <th></th>\n",
              "      <th>ID</th>\n",
              "      <th>Status</th>\n",
              "      <th>Primary Establishment Name</th>\n",
              "      <th>Primary Parcel Name</th>\n",
              "      <th>Secondary Establishment Name</th>\n",
              "      <th>Secondary Parcel Name</th>\n",
              "      <th>Forecast FY</th>\n",
              "      <th>Address</th>\n",
              "      <th>Town</th>\n",
              "      <th>County</th>\n",
              "      <th>Country</th>\n",
              "      <th>Total Area (ha)</th>\n",
              "      <th>Unnamed: 12</th>\n",
              "      <th>Housing Unit Potential (HUP)</th>\n",
              "      <th>Constituency</th>\n",
              "    </tr>\n",
              "  </thead>\n",
              "  <tbody>\n",
              "    <tr>\n",
              "      <th>0</th>\n",
              "      <td>2070</td>\n",
              "      <td>Delivery</td>\n",
              "      <td>ALDERSHOT GARRISON MISC</td>\n",
              "      <td>TALAVERA SCHOOL</td>\n",
              "      <td>NaN</td>\n",
              "      <td>NaN</td>\n",
              "      <td>2020</td>\n",
              "      <td>Gunhill</td>\n",
              "      <td>Aldershot</td>\n",
              "      <td>Hampshire</td>\n",
              "      <td>England</td>\n",
              "      <td>2.84</td>\n",
              "      <td>hectares</td>\n",
              "      <td>0</td>\n",
              "      <td>Aldershot</td>\n",
              "    </tr>\n",
              "    <tr>\n",
              "      <th>1</th>\n",
              "      <td>2030</td>\n",
              "      <td>Delivery</td>\n",
              "      <td>DMC DEAN HILL</td>\n",
              "      <td>RESIDUAL OPEN LAND</td>\n",
              "      <td>NaN</td>\n",
              "      <td>NaN</td>\n",
              "      <td>2018</td>\n",
              "      <td>Dean Hill</td>\n",
              "      <td>West Dean</td>\n",
              "      <td>Hampshire</td>\n",
              "      <td>England</td>\n",
              "      <td>2.15</td>\n",
              "      <td>hectares</td>\n",
              "      <td>0</td>\n",
              "      <td>Test Valley</td>\n",
              "    </tr>\n",
              "    <tr>\n",
              "      <th>2</th>\n",
              "      <td>2280</td>\n",
              "      <td>Delivery</td>\n",
              "      <td>SALISBURY PLAIN TRAINING AREA</td>\n",
              "      <td>SALISBURY PLAIN SOUTH EAST</td>\n",
              "      <td>NaN</td>\n",
              "      <td>NaN</td>\n",
              "      <td>2018</td>\n",
              "      <td>Land adjacent The Old Vicarage, Vicarage Corner</td>\n",
              "      <td>Bulford</td>\n",
              "      <td>Wiltshire</td>\n",
              "      <td>England</td>\n",
              "      <td>0.16</td>\n",
              "      <td>hectares</td>\n",
              "      <td>0</td>\n",
              "      <td>Devizes</td>\n",
              "    </tr>\n",
              "  </tbody>\n",
              "</table>\n",
              "</div>"
            ],
            "text/plain": [
              "     ID    Status     Primary Establishment Name         Primary Parcel Name  \\\n",
              "0  2070  Delivery        ALDERSHOT GARRISON MISC             TALAVERA SCHOOL   \n",
              "1  2030  Delivery                  DMC DEAN HILL          RESIDUAL OPEN LAND   \n",
              "2  2280  Delivery  SALISBURY PLAIN TRAINING AREA  SALISBURY PLAIN SOUTH EAST   \n",
              "\n",
              "  Secondary Establishment Name Secondary Parcel Name  Forecast FY  \\\n",
              "0                          NaN                   NaN         2020   \n",
              "1                          NaN                   NaN         2018   \n",
              "2                          NaN                   NaN         2018   \n",
              "\n",
              "                                           Address       Town     County  \\\n",
              "0                                          Gunhill  Aldershot  Hampshire   \n",
              "1                                        Dean Hill  West Dean  Hampshire   \n",
              "2  Land adjacent The Old Vicarage, Vicarage Corner    Bulford  Wiltshire   \n",
              "\n",
              "   Country  Total Area (ha) Unnamed: 12 Housing Unit Potential (HUP)  \\\n",
              "0  England             2.84    hectares                            0   \n",
              "1  England             2.15    hectares                            0   \n",
              "2  England             0.16    hectares                            0   \n",
              "\n",
              "  Constituency  \n",
              "0    Aldershot  \n",
              "1  Test Valley  \n",
              "2      Devizes  "
            ]
          },
          "metadata": {
            "tags": []
          },
          "execution_count": 25
        }
      ]
    },
    {
      "metadata": {
        "id": "LraZEmdJ3amp",
        "colab_type": "text"
      },
      "cell_type": "markdown",
      "source": [
        "The `.head()` method gives you the first few rows of a DataFrame. Try changing the code above to `.head(6)` and then re-run the cell. Instead of `.head()` you can also use `.tail()`, which gives you the last few rows. Try that out too!\n",
        "\n",
        "So what is this data? We've deliberately made an obscure choice, just to emphasise how wide-ranging open data has become. It's actually data from a report by the UK government, collating information about properties belonging to the ministry of defence that they plan to dispose of over the next 25 years. You can see it contains a number of different types of data - some numeric, some text, and some missing (missing entries are marked `NaN`)\n",
        "\n",
        "Just as before, we can apply some of the same exploratory data analysis techniques to quickly yield insights from this data. E.G. the number of properties with each status:"
      ]
    },
    {
      "metadata": {
        "id": "ojdBeM0Q4Y4d",
        "colab_type": "code",
        "outputId": "cf07d28e-0f4f-46a5-8e69-313ed4b1e5d8",
        "colab": {
          "base_uri": "https://localhost:8080/",
          "height": 104
        }
      },
      "cell_type": "code",
      "source": [
        "disposals[\"Status\"].value_counts()\n",
        "# Try counting the values for each Constituency instead of Status"
      ],
      "execution_count": 0,
      "outputs": [
        {
          "output_type": "execute_result",
          "data": {
            "text/plain": [
              "Assessment       180\n",
              "LSDP Delivery     81\n",
              "Delivery          69\n",
              "Exchanged          2\n",
              "Name: Status, dtype: int64"
            ]
          },
          "metadata": {
            "tags": []
          },
          "execution_count": 21
        }
      ]
    },
    {
      "metadata": {
        "id": "AyPA0Mg16Ect",
        "colab_type": "text"
      },
      "cell_type": "markdown",
      "source": [
        "Or perhaps we can see which counties have the most properties scheduled for disposal? Let's look at the top 10:"
      ]
    },
    {
      "metadata": {
        "id": "nu2GFdDM4dDR",
        "colab_type": "code",
        "outputId": "19e4fa6a-00ce-449d-85c5-b0d0d1ce4ddd",
        "colab": {
          "base_uri": "https://localhost:8080/",
          "height": 424
        }
      },
      "cell_type": "code",
      "source": [
        "disposals[\"County\"].value_counts().head(10).plot.bar(color=\"red\")\n",
        "# Try changing this to show the counts for each Status, or each Constituency\n",
        "# Or try graphing the top 20 instead of the top 10"
      ],
      "execution_count": 0,
      "outputs": [
        {
          "output_type": "execute_result",
          "data": {
            "text/plain": [
              "<matplotlib.axes._subplots.AxesSubplot at 0x7f3a5afe2c88>"
            ]
          },
          "metadata": {
            "tags": []
          },
          "execution_count": 22
        },
        {
          "output_type": "display_data",
          "data": {
            "image/png": "[encoded data removed]",
            "text/plain": [
              "<matplotlib.figure.Figure at 0x7f3a5afe25f8>"
            ]
          },
          "metadata": {
            "tags": []
          }
        }
      ]
    },
    {
      "metadata": {
        "id": "NsCaryNn6u-F",
        "colab_type": "text"
      },
      "cell_type": "markdown",
      "source": [
        "Looks like Hampshire, Cambridgeshire, and Essex have the lead. And what does the disposal schedule look like? How many properties are scheduled to be disposed of each year?"
      ]
    },
    {
      "metadata": {
        "id": "nWSXIzcQ7Ogi",
        "colab_type": "text"
      },
      "cell_type": "markdown",
      "source": [
        "We need to use a couple of new tricks here. First we count up the number of entries under each year. However that won't automatically sort the years into the right order, so then we run a sort on the index column:"
      ]
    },
    {
      "metadata": {
        "id": "eaGykVA17iBe",
        "colab_type": "code",
        "outputId": "1f9672f4-cc72-4ef4-a594-25991f8eb18e",
        "colab": {
          "base_uri": "https://localhost:8080/",
          "height": 451
        }
      },
      "cell_type": "code",
      "source": [
        "disposals[\"Forecast FY\"].value_counts().sort_index()"
      ],
      "execution_count": 0,
      "outputs": [
        {
          "output_type": "execute_result",
          "data": {
            "text/plain": [
              "2018    41\n",
              "2019    56\n",
              "2020    26\n",
              "2021    13\n",
              "2022    18\n",
              "2023    15\n",
              "2024    19\n",
              "2025    15\n",
              "2026    13\n",
              "2027    13\n",
              "2028    14\n",
              "2029    10\n",
              "2030     8\n",
              "2031    13\n",
              "2032    10\n",
              "2033     7\n",
              "2034     6\n",
              "2035     6\n",
              "2036     6\n",
              "2037     6\n",
              "2038     5\n",
              "2039     5\n",
              "2040     5\n",
              "2041     2\n",
              "Name: Forecast FY, dtype: int64"
            ]
          },
          "metadata": {
            "tags": []
          },
          "execution_count": 23
        }
      ]
    },
    {
      "metadata": {
        "id": "O3lUq7yY7obv",
        "colab_type": "text"
      },
      "cell_type": "markdown",
      "source": [
        "This put the rows *in the order in which they are indexed* (whereas before they were in order of year with most to least scheduled disposals). This makes sure the years come out in the correct order in the final plot:"
      ]
    },
    {
      "metadata": {
        "id": "KX2e5S-v8AT5",
        "colab_type": "code",
        "outputId": "ca0be042-a306-4060-c3a2-2b13fdaee059",
        "colab": {
          "base_uri": "https://localhost:8080/",
          "height": 377
        }
      },
      "cell_type": "code",
      "source": [
        "disposals[\"Forecast FY\"].value_counts().sort_index().plot.bar(color=\"black\", rot=45)"
      ],
      "execution_count": 0,
      "outputs": [
        {
          "output_type": "execute_result",
          "data": {
            "text/plain": [
              "<matplotlib.axes._subplots.AxesSubplot at 0x7f3a5afe2be0>"
            ]
          },
          "metadata": {
            "tags": []
          },
          "execution_count": 24
        },
        {
          "output_type": "display_data",
          "data": {
            "image/png": "[encoded data removed]",
            "text/plain": [
              "<matplotlib.figure.Figure at 0x7f3a5ab91e80>"
            ]
          },
          "metadata": {
            "tags": []
          }
        }
      ]
    },
    {
      "metadata": {
        "id": "fawt0aV08M0y",
        "colab_type": "text"
      },
      "cell_type": "markdown",
      "source": [
        "Which makes a nice visualisation of the schedule. Note that adding \"`rot=45`\" has rotated the labels 45 degrees, for additional readability. Pandas has a plethora of options for customising your plots - far too many to explore in a brief demonstration!"
      ]
    },
    {
      "metadata": {
        "id": "GoU2gTCwSCfF",
        "colab_type": "text"
      },
      "cell_type": "markdown",
      "source": [
        "## Where do we go from here?\n",
        "\n",
        "We can't teach you everything there is to know about data analysis using python in one hour. But we today we're aiming to give you\n",
        "1. a sense that the barriers to getting started, while real, can be hurdled by you and your team\n",
        "2. a look at some of the useful analyses that someone with a little knowledge can do in the era of open data and open code\n",
        "3. some confidence to get started in your own learning journey - sometimes you just need reassurance that the road you're on is the right one\n",
        "\n",
        "On that last point, we have some other materials that we can provide or point you towards to get you started."
      ]
    }
  ]
}